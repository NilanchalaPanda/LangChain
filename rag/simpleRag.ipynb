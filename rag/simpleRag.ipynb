{
 "cells": [
  {
   "cell_type": "markdown",
   "metadata": {},
   "source": [
    "### Data Ingestion"
   ]
  },
  {
   "cell_type": "markdown",
   "metadata": {},
   "source": [
    "### **LOADING DATA**"
   ]
  },
  {
   "cell_type": "code",
   "execution_count": 2,
   "metadata": {},
   "outputs": [
    {
     "data": {
      "text/plain": [
       "[Document(page_content='This is a day I’ve been looking forward to for two and a half years. Every once in a while, a revolutionary product comes along that changes everything. And Apple has been—well, first of all, one’s very fortunate if you get to work on just one of these in your career. Apple’s been very fortunate. It’s been able to introduce a few of these into the world. 1984, we introduced the Macintosh. It didn’t just change Apple, it changed the whole computer industry. In 2001, we introduced the first iPod. And it didn’t just change the way we all listen to music, it changed the entire music industry. Well, today, we’re introducing three revolutionary products of this class.', metadata={'source': 'speech.txt'})]"
      ]
     },
     "execution_count": 2,
     "metadata": {},
     "output_type": "execute_result"
    }
   ],
   "source": [
    "from langchain_community.document_loaders import TextLoader\n",
    "loader=TextLoader(\"speech.txt\")\n",
    "\n",
    "text_documents=loader.load()\n",
    "text_documents"
   ]
  },
  {
   "cell_type": "code",
   "execution_count": 3,
   "metadata": {},
   "outputs": [],
   "source": [
    "import os\n",
    "from dotenv import load_dotenv\n",
    "load_dotenv\n",
    "\n",
    "os.environ[\"LANGCHAIN_TRACING_V2\"]=\"true\"\n",
    "os.environ[\"LANGCHAIN_API_KEY\"]=os.getenv(\"LANGCHAIN_API_KEY\")"
   ]
  },
  {
   "cell_type": "markdown",
   "metadata": {},
   "source": [
    "##### Web based loader"
   ]
  },
  {
   "cell_type": "code",
   "execution_count": 4,
   "metadata": {},
   "outputs": [],
   "source": [
    "from langchain_community.document_loaders import WebBaseLoader\n",
    "import bs4"
   ]
  },
  {
   "cell_type": "markdown",
   "metadata": {},
   "source": [
    "#### Load, chunk and index the content of the web page."
   ]
  },
  {
   "cell_type": "code",
   "execution_count": 8,
   "metadata": {},
   "outputs": [],
   "source": [
    "loader=WebBaseLoader(web_paths=(\"https://lilianweng.github.io/posts/2023-06-23-agent/\",), \n",
    "                        bs_kwargs=dict(parse_only=bs4.SoupStrainer(\n",
    "                            class_=(\"post-single\", \"post-content\", \"post-header\")\n",
    "                    )))\n",
    "\n",
    "text_documents=loader.load()\n",
    "# text_documents"
   ]
  },
  {
   "cell_type": "markdown",
   "metadata": {},
   "source": [
    "##### Reading PDF"
   ]
  },
  {
   "cell_type": "code",
   "execution_count": 10,
   "metadata": {},
   "outputs": [
    {
     "data": {
      "text/plain": [
       "[Document(page_content='3807396A0DA7E51154F8C49B79DAE0CD3807396A0DA7E51154F8C49B79DAE0CD3807396A0DA7E51154F8C49B79DAE0CD3807396A0DA7E51154F8C49B79DAE0CD\\n3807396A0DA7E51154F8C49B79DAE0CD3807396A0DA7E51154F8C49B79DAE0CD3807396A0DA7E51154F8C49B79DAE0CD3807396A0DA7E51154F8C49B79DAE0CD\\n3807396A0DA7E51154F8C49B79DAE0CD3807396A0DA7E51154F8C49B79DAE0CD3807396A0DA7E51154F8C49B79DAE0CD3807396A0DA7E51154F8C49B79DAE0CD\\n3807396A0DA7E51154F8C49B79DAE0CD3807396A0DA7E51154F8C49B79DAE0CD3807396A0DA7E51154F8C49B79DAE0CD3807396A0DA7E51154F8C49B79DAE0CD\\n3807396A0DA7E51154F8C49B79DAE0CD3807396A0DA7E51154F8C49B79DAE0CD3807396A0DA7E51154F8C49B79DAE0CD3807396A0DA7E51154F8C49B79DAE0CD\\n3807396A0DA7E51154F8C49B79DAE0CD3807396A0DA7E51154F8C49B79DAE0CD3807396A0DA7E51154F8C49B79DAE0CD3807396A0DA7E51154F8C49B79DAE0CD\\n3807396A0DA7E51154F8C49B79DAE0CD3807396A0DA7E51154F8C49B79DAE0CD3807396A0DA7E51154F8C49B79DAE0CD3807396A0DA7E51154F8C49B79DAE0CD\\n3807396A0DA7E51154F8C49B79DAE0CD3807396A0DA7E51154F8C49B79DAE0CD3807396A0DA7E51154F8C49B79DAE0CD3807396A0DA7E51154F8C49B79DAE0CD\\n3807396A0DA7E51154F8C49B79DAE0CD3807396A0DA7E51154F8C49B79DAE0CD3807396A0DA7E51154F8C49B79DAE0CD3807396A0DA7E51154F8C49B79DAE0CD\\n2846 8 Page 1 of 1 \\n (3 Hours)  \\nTotal Marks: 80  \\nN.B.: (1) Question No .1 is compulsory.  \\n          (2) Attempt any three questions from the remaining five questions.  \\n          (3) Make suitable assumptions wherever necessary but justify your assumptions.  \\n \\n1.            (a) Explain M obile forensic. What are various challenges in mobile forensic s 05 \\n (b) Explain Forensic Duplicates as Admissible Evidence . 05 \\n (c) What is evidence handling procedure ?  05 \\n (d) What are Challenges in network forensics  ? 05 \\n   \\n2.  (a) Explain Incident Re sponse Process and its methodology . 10 \\n (b) Compare active attacks vs Passive attacks. Classify the cybercrimes and explain any \\none briefl y. 10 \\n   \\n3. (a) Discuss basic security precautions to be taken to safeguard Laptops and wireless \\ndevices and What a re the devices related to security issues ? 10 \\n (b) Explain Volati le Data Collection from Windows syste m 10 \\n   \\n4. (a) What do you understand by social engineering? Give classificatio n 10 \\n (b) Briefly explain Types of digital Evidence with examples . 10 \\n   \\n5. (a) Explain process for collecting Network Based Evidence . 10 \\n (b) Explain various guidelines for digital forensic report writing along with its goals.  10 \\n   \\n6. Write a short note on  (Any Two)  \\n(1) Tools used in network forensics  \\n(2) Roles of CSIRT in han dling incident  \\n(3) Email Tracing - Internet Fra ud 20 \\n \\n____________________________  Paper / Subject Code: 89388 / Ethical Hacking and Forensic3807396A0DA7E51154F8C49B79DAE0CD\\n1T01236 - T.E.(Information Technology)(SEM-VI)(Choice Base Credit Grading System ) (R-20-21) \\n(C Scheme) / 89388 - Ethical Hacking and Forensic QP CODE: 10028468   DATE: 18/05/2023', metadata={'source': 'PAPER.pdf', 'page': 0})]"
      ]
     },
     "execution_count": 10,
     "metadata": {},
     "output_type": "execute_result"
    }
   ],
   "source": [
    "from langchain_community.document_loaders import PyPDFLoader\n",
    "\n",
    "loader=PyPDFLoader(\"PAPER.pdf\")\n",
    "docs=loader.load()\n",
    "docs"
   ]
  },
  {
   "cell_type": "markdown",
   "metadata": {},
   "source": [
    "### **DATA TRANFORMATION**"
   ]
  },
  {
   "cell_type": "code",
   "execution_count": null,
   "metadata": {},
   "outputs": [],
   "source": [
    "from langchain.text_splitter import RecursiveCharacterTextSplitter "
   ]
  }
 ],
 "metadata": {
  "kernelspec": {
   "display_name": "Python 3",
   "language": "python",
   "name": "python3"
  },
  "language_info": {
   "codemirror_mode": {
    "name": "ipython",
    "version": 3
   },
   "file_extension": ".py",
   "mimetype": "text/x-python",
   "name": "python",
   "nbconvert_exporter": "python",
   "pygments_lexer": "ipython3",
   "version": "3.9.19"
  }
 },
 "nbformat": 4,
 "nbformat_minor": 2
}
