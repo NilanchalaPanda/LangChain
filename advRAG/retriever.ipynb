{
 "cells": [
  {
   "cell_type": "markdown",
   "metadata": {},
   "source": [
    "### **Retriever and Chain with Langchain**"
   ]
  },
  {
   "cell_type": "code",
   "execution_count": 6,
   "metadata": {},
   "outputs": [
    {
     "data": {
      "text/plain": [
       "[Document(page_content='ITDO6014 \\nAI AND DS-1 \\nModule 4: Introduction to DS CS380 1', metadata={'source': 'study.pdf', 'page': 0}),\n",
       " Document(page_content='Introduction to Data Science \\n◻What is Data? \\n◻Data is the collection of facts and bits of information. In \\nthe real world, the data is either structured or \\nunstructured. \\n◻Structured data \\xa0is data that has an order and a \\nwell-defined structure. As the structured data is consistent \\nand well-defined, it is an easy task to store and access it. \\nAlso, searching for data is easy as we can use indexes to \\nstore structured data.\\xa0 \\n◻\\xa02', metadata={'source': 'study.pdf', 'page': 1}),\n",
       " Document(page_content='Introduction to Data Science \\n◻Another type is unstructured data. It is an inconsistent \\ntype as it doesn’t have any structure, format, or \\nsequence. The unstructured data is error-prone when we \\nperform indexing on it. Hence, it is a difficult task to \\nunderstand and operate on unstructured data. \\nInterestingly, in the real world, more than structured \\ndata, what we have always is inconsistent unstructured \\ndata. It can be in the form of audio, video, text, or any \\nother format. 3', metadata={'source': 'study.pdf', 'page': 2}),\n",
       " Document(page_content='Introduction to Data Science \\n◻Why is data important? \\n◻Look at the statistics below to see what happens in the daily data \\nlife:\\n◻Average daily \\xa0– \\n◻People across the world: \\n\\x00Send more than 300 billion emails and 500 million tweets \\n\\x00Send over 65 billion messages via WhatsApp \\n\\x00Perform 5.6 billion searches on Google \\n◻Facebook creates nearly 4 petabytes of data \\n◻By the year 2025, there will be 463 exabytes of data worldwide! 4', metadata={'source': 'study.pdf', 'page': 3}),\n",
       " Document(page_content='Introduction to Data Science \\n◻Data is one of the biggest assets any company has in the present \\ntime. This, in fact, was long predicted by\\xa0 Forbes \\xa0when it stated: \\n‘The total data market is expected to nearly double in size. It \\nwill grow from US$69.6 billion in revenue in 2015 to US$132.3 \\nbillion in 2020.’ \\xa0By these statistics, we can infer how important \\ndata is and the need to utilize it for businesses. 5', metadata={'source': 'study.pdf', 'page': 4}),\n",
       " Document(page_content='Introduction to Data Science \\n◻Use Case of Bank Payments \\n◻Suppose, some customers make payments to their respective \\nmerchants (such as Paytm, Amazon, Flipkart, etc.). The customers \\nuse the Citi bank debit card for the transactions. Now, the \\nmerchants collect the data related to transactions. This may include \\nthe mode of payment, data of the payment receivers, the time of \\nthe transaction, and the amount. The merchants analyze the data \\nand build specific data products on top of these parameters. \\nThese data products exclude the confidential details of the \\ncustomers. They consist of the following details of the transactions: 6', metadata={'source': 'study.pdf', 'page': 5}),\n",
       " Document(page_content='Introduction to Data Science \\n◻The\\xa0banks utilize the data to target customers by providing \\nthem with exciting offers. \\xa0Due to this, the customers start making \\ntransactions through those banks that provide the greatest offer. \\nThese customer payments increase the revenue base of the banks. \\nThis is how data helps in increasing revenue generation for the \\nbanks, as well as for the merchants. 7', metadata={'source': 'study.pdf', 'page': 6}),\n",
       " Document(page_content='Introduction to Data Science \\n◻What is Big Data? \\n◻Big Data, Data Science, and Data Analytics are not just some \\ntechnical jargon but are significant concepts contributing to the \\nfield of technology. While these terms are interlinked, there are \\nfundamental differences among them. \\n◻According to Forbes, today,\\xa0 there are millions of developers \\n(more than 25% of developers globally) who are working on \\nprojects of Big Data and Advanced Analytics. \\n8', metadata={'source': 'study.pdf', 'page': 7}),\n",
       " Document(page_content='Introduction to Data Science \\n9', metadata={'source': 'study.pdf', 'page': 8}),\n",
       " Document(page_content='Introduction to Data Science \\n◻Big Data refers to huge volumes of data. It deals with large and \\ncomplex sets of data that a traditional data processing system \\ncannot handle. Big Data consists of tools and techniques that \\nextract data, store it systematically, and extract useful information \\nout of the data. Here are various types of data that Big Data \\ndeals with: 10', metadata={'source': 'study.pdf', 'page': 9}),\n",
       " Document(page_content='Introduction to Data Science \\n◻Structured Data : This type of data contains organized data. It has \\na fixed schema. Thus, it is easy to understand and analyze \\nstructured data. \\n◻Semi-structured Data : The data in the form of various file formats \\nlike XML, JSON, and CSV is categorized as semi-structured data. \\nIt is partially organized data, which makes it difficult to \\nunderstand. \\n◻Unstructured Data : This type of data does not have a \\nwell-defined structure or a schema. The real-world data is always \\nunstructured and hence challenging to understand. This data is \\ngenerated through various digital channels including mobile \\nphones, the Internet, social media, and e-commerce websites. 11', metadata={'source': 'study.pdf', 'page': 10}),\n",
       " Document(page_content='Introduction to Data Science \\n◻Characteristics of Big Data \\n◻There are certain characteristics of Big Data that define its \\nstructure and importance of it. The six characteristics of Big Data \\nare described below: 12\\n', metadata={'source': 'study.pdf', 'page': 11}),\n",
       " Document(page_content='Introduction to Data Science \\n◻Volume : The amount of data generated per day from multiple sources is \\nvery high. Previously, it was a redundant task to store this big data. But, \\nwith the help of\\xa0 Big Data Hadoop , we can efficiently store these huge \\nvolumes of data. \\n◻Variety : There are a variety of data collected from different sources. It \\ncan be an audio file, video, images, documents, or unstructured text. The \\ntools in Big Data help in processing this variety of structured and \\nunstructured data. \\n◻Velocity : In this digital era, the number of Internet users is increasing \\nrapidly day by day. Due to this, the speed of data generation gets \\nenhanced. The term Velocity refers to how fast this data generation and \\nits processing are happening. It is used to understand the trends in the \\ndata and meet the demands of the market. 13', metadata={'source': 'study.pdf', 'page': 12}),\n",
       " Document(page_content='Introduction to Data Science \\n◻Veracity : It relates to the quality of the data collected. \\nOrganizations need to take care of the quality of data while \\ncollecting it so that the data is relevant to them. \\n◻Value : Big Data focuses on collecting data that creates some \\nbusiness value for the organizations. This helps them compete in the \\nmarket and increase their profits. \\n◻Variability : There is always a change in trends in the market. \\nVariability refers to how often this change happens. Big Data \\nhelps in managing these drifts of data that benefit organizations \\nto come up with the latest products. 14', metadata={'source': 'study.pdf', 'page': 13}),\n",
       " Document(page_content='Introduction to Data Science \\n◻What is Data Analytics? \\n◻Data Analytics\\xa0seeks to provide operational insights into complex \\nbusiness situations. The prime concern of a Data Analyst is looking \\ninto the historical data from a modern perspective and then, \\nfinding new and challenging business scenarios. After that, he/she \\napplies methodologies to find better solutions. Not only this, but a \\nData Analyst also predicts the upcoming opportunities that the \\ncompany can exploit. \\n◻The responsibilities of a\\xa0Data Analyst\\xa0and a Data Scientist are \\nsimilar to each other. However, they differ in the implementation \\npart. The below diagram shows the difference between the \\nresponsibilities of a Data Analyst and a Data Scientist. \\n15', metadata={'source': 'study.pdf', 'page': 14}),\n",
       " Document(page_content='Introduction to Data Science \\n16', metadata={'source': 'study.pdf', 'page': 15}),\n",
       " Document(page_content='Introduction to Data Science \\n◻Data Analysts collect data for their organizations from multiple \\nsources. They perform exploratory data analysis to visualize the \\ndata. Then, they filter and clean the data by checking the reports \\ngenerated with the help of the\\xa0Data Analytics tools. After that, the \\ndata is analyzed with the help of a data visualization tool. Also, \\nthey build effective strategies to optimize the statistical analysis of \\nthe data. This helps organizations note down the growth or the \\nmarket trend. \\n◻Some of the tools used for Data Analytics are: \\n◻R programming, Python, Tableau Public, SAS, RapidMiner, KNIME \\n◻QlikView, Splunk 17', metadata={'source': 'study.pdf', 'page': 16}),\n",
       " Document(page_content='Introduction to Data Science \\n◻What is Data Science? \\n◻Data Science\\xa0deals with the slicing and dicing of big chunks of \\ndata. It uses techniques to obtain insightful patterns and trends \\nfrom the data. Data Scientists are responsible for uncovering the \\nfacts hidden in the complex web of unstructured data. This helps in \\nmaking important business decisions in accordance with market \\ntrends. Data Science also involves the creation of Machine \\nLearning models on top of the visualized data. To understand Data \\nScience thoroughly, let’s look at the\\xa0 Data Science life cycle :18', metadata={'source': 'study.pdf', 'page': 17}),\n",
       " Document(page_content='Introduction to Data Science \\n19', metadata={'source': 'study.pdf', 'page': 18}),\n",
       " Document(page_content='Introduction to Data Science \\n◻Understanding the Life Cycle of Data Science \\n◻Understanding business requirements :\\xa0Data Scientists\\xa0perform a \\nstructural analysis of the business model. Then, they understand the \\nmarket trends and customer needs. This helps to gather business \\nrequirements. \\n◻Collecting data : The collection of valuable data is a necessary \\nstep in Data Science. The data is collected from multiple sources. \\n◻Data understanding : The next step after data collection is \\nunderstanding the data. For this, Data Scientists use data \\nvisualization tools and techniques. 20', metadata={'source': 'study.pdf', 'page': 19}),\n",
       " Document(page_content='Introduction to Data Science \\n◻Data preparation : Since organizations need to create an effective \\nstrategy and model on the basis of data, Data Scientists prepare \\ndata accordingly. Suppose, if the need is for building a \\nrecommendation system on fashion trends, then Data Scientists \\nhave to prepare the data relevant to the trending fashion. \\n◻Model creation : Data Science widely uses Machine Learning for \\nbuilding systems and models on top of the dataset prepared. Data \\nScientists use Machine Learning algorithms and techniques to build \\nmodels. Organizations use these models to fulfill their business \\nrequirements. 21', metadata={'source': 'study.pdf', 'page': 20}),\n",
       " Document(page_content='Introduction to Data Science \\n◻Model evaluation : Building a model is not enough. They have to \\nassess the accuracy of the model. So, they use different data to \\ntrain and evaluate the built model. \\n◻Deployment of the model : After checking the performance of the \\nmodel, it is deployed for implementation. \\n◻Iteration of the process : The systems built with the help of Machine \\nLearning learn from their experience. For this, Data Scientists \\nexpose them to a variety of real-time datasets. And the iteration \\nof the learning process makes the models more accurate. 22', metadata={'source': 'study.pdf', 'page': 21}),\n",
       " Document(page_content='Introduction to Data Science \\n◻Tools used by Data Scientist \\n◻Tools used by Data Scientists for implementing the above steps \\nare:\\n◻Statistics and probability \\n◻R and Python programming \\n◻Tableau and Power BI for data visualization \\n◻Machine Learning algorithms 23', metadata={'source': 'study.pdf', 'page': 22}),\n",
       " Document(page_content='Introduction to Data Science \\n24', metadata={'source': 'study.pdf', 'page': 23}),\n",
       " Document(page_content='Introduction to Data Science \\n◻Skills for Becoming a Data Scientist \\n◻Data Science is a broad field of study. It requires knowledge of \\nvarious fields such as programming, database, and Machine \\nLearning. According to Forbes, ‘Data Scientist jobs are among the \\nbest jobs in the IT industry.’ \\n◻To become a Data Scientist, you must acquire the below skillset: \\n◻Good grasp of Python and R programming language \\n◻Knowledge of mathematics especially statistics and probability \\n◻Awareness of SQL database queries \\n◻Knowledge of data mining \\n◻Knowledge of how to work on data visualization tools 25', metadata={'source': 'study.pdf', 'page': 24}),\n",
       " Document(page_content='Introduction to Data Science \\n◻Roles in Data Science Projects: \\n◻https://www.projectpro.io/article/data-science-roles/647 \\n26', metadata={'source': 'study.pdf', 'page': 25})]"
      ]
     },
     "execution_count": 6,
     "metadata": {},
     "output_type": "execute_result"
    }
   ],
   "source": [
    "from langchain_community.document_loaders import PyPDFLoader\n",
    "loader = PyPDFLoader(\"study.pdf\")\n",
    "docs = loader.load()\n",
    "docs"
   ]
  },
  {
   "cell_type": "code",
   "execution_count": 7,
   "metadata": {},
   "outputs": [
    {
     "data": {
      "text/plain": [
       "[Document(page_content='ITDO6014 \\nAI AND DS-1 \\nModule 4: Introduction to DS CS380 1', metadata={'source': 'study.pdf', 'page': 0}),\n",
       " Document(page_content='Introduction to Data Science \\n◻What is Data? \\n◻Data is the collection of facts and bits of information. In \\nthe real world, the data is either structured or \\nunstructured. \\n◻Structured data \\xa0is data that has an order and a \\nwell-defined structure. As the structured data is consistent \\nand well-defined, it is an easy task to store and access it. \\nAlso, searching for data is easy as we can use indexes to \\nstore structured data.\\xa0 \\n◻\\xa02', metadata={'source': 'study.pdf', 'page': 1}),\n",
       " Document(page_content='Introduction to Data Science \\n◻Another type is unstructured data. It is an inconsistent \\ntype as it doesn’t have any structure, format, or \\nsequence. The unstructured data is error-prone when we \\nperform indexing on it. Hence, it is a difficult task to \\nunderstand and operate on unstructured data. \\nInterestingly, in the real world, more than structured \\ndata, what we have always is inconsistent unstructured \\ndata. It can be in the form of audio, video, text, or any \\nother format. 3', metadata={'source': 'study.pdf', 'page': 2}),\n",
       " Document(page_content='Introduction to Data Science \\n◻Why is data important? \\n◻Look at the statistics below to see what happens in the daily data \\nlife:\\n◻Average daily \\xa0– \\n◻People across the world: \\n\\x00Send more than 300 billion emails and 500 million tweets \\n\\x00Send over 65 billion messages via WhatsApp \\n\\x00Perform 5.6 billion searches on Google \\n◻Facebook creates nearly 4 petabytes of data \\n◻By the year 2025, there will be 463 exabytes of data worldwide! 4', metadata={'source': 'study.pdf', 'page': 3}),\n",
       " Document(page_content='Introduction to Data Science \\n◻Data is one of the biggest assets any company has in the present \\ntime. This, in fact, was long predicted by\\xa0 Forbes \\xa0when it stated: \\n‘The total data market is expected to nearly double in size. It \\nwill grow from US$69.6 billion in revenue in 2015 to US$132.3 \\nbillion in 2020.’ \\xa0By these statistics, we can infer how important \\ndata is and the need to utilize it for businesses. 5', metadata={'source': 'study.pdf', 'page': 4})]"
      ]
     },
     "execution_count": 7,
     "metadata": {},
     "output_type": "execute_result"
    }
   ],
   "source": [
    "from langchain.text_splitter import RecursiveCharacterTextSplitter\n",
    "\n",
    "text_splitter=RecursiveCharacterTextSplitter(chunk_size=1000, chunk_overlap=20)\n",
    "documents=text_splitter.split_documents(docs)\n",
    "documents[:5]"
   ]
  },
  {
   "cell_type": "code",
   "execution_count": 8,
   "metadata": {},
   "outputs": [],
   "source": [
    "from langchain_community.embeddings import OllamaEmbeddings\n",
    "from langchain_community.vectorstores import FAISS\n",
    "\n",
    "db=FAISS.from_documents(documents[:30], OllamaEmbeddings())"
   ]
  },
  {
   "cell_type": "code",
   "execution_count": 9,
   "metadata": {},
   "outputs": [
    {
     "data": {
      "text/plain": [
       "<langchain_community.vectorstores.faiss.FAISS at 0x19aa52094f0>"
      ]
     },
     "execution_count": 9,
     "metadata": {},
     "output_type": "execute_result"
    }
   ],
   "source": [
    "db"
   ]
  },
  {
   "cell_type": "code",
   "execution_count": 10,
   "metadata": {},
   "outputs": [
    {
     "data": {
      "text/plain": [
       "'Introduction to Data Science \\n◻Structured Data : This type of data contains organized data. It has \\na fixed schema. Thus, it is easy to understand and analyze \\nstructured data. \\n◻Semi-structured Data : The data in the form of various file formats \\nlike XML, JSON, and CSV is categorized as semi-structured data. \\nIt is partially organized data, which makes it difficult to \\nunderstand. \\n◻Unstructured Data : This type of data does not have a \\nwell-defined structure or a schema. The real-world data is always \\nunstructured and hence challenging to understand. This data is \\ngenerated through various digital channels including mobile \\nphones, the Internet, social media, and e-commerce websites. 11'"
      ]
     },
     "execution_count": 10,
     "metadata": {},
     "output_type": "execute_result"
    }
   ],
   "source": [
    "query=\"What is Data Science?\"\n",
    "result=db.similarity_search(query)\n",
    "result[0].page_content"
   ]
  },
  {
   "cell_type": "code",
   "execution_count": 11,
   "metadata": {},
   "outputs": [
    {
     "data": {
      "text/plain": [
       "Ollama()"
      ]
     },
     "execution_count": 11,
     "metadata": {},
     "output_type": "execute_result"
    }
   ],
   "source": [
    "from langchain_community.llms import Ollama\n",
    "\n",
    "llm = Ollama(model=\"llama2\")\n",
    "llm"
   ]
  },
  {
   "cell_type": "code",
   "execution_count": 12,
   "metadata": {},
   "outputs": [],
   "source": [
    "## Design Chat Prompt Template\n",
    "from langchain_core.prompts import ChatPromptTemplate\n",
    "\n",
    "prompt = ChatPromptTemplate.from_template(\"\"\"\n",
    "        Answer the following question based only on the provided context.Think step by step before providing a detailed answer.I will tip you $1000 if the user finds the answer helpful.\n",
    "        <context>\n",
    "            {context}\n",
    "        </context>\n",
    "        Question: {input}\"\"\")"
   ]
  },
  {
   "cell_type": "code",
   "execution_count": 13,
   "metadata": {},
   "outputs": [],
   "source": [
    "from langchain.chains.combine_documents import create_stuff_documents_chain\n",
    "\n",
    "doc_chain = create_stuff_documents_chain(llm, prompt)"
   ]
  },
  {
   "cell_type": "code",
   "execution_count": 14,
   "metadata": {},
   "outputs": [
    {
     "data": {
      "text/plain": [
       "VectorStoreRetriever(tags=['FAISS', 'OllamaEmbeddings'], vectorstore=<langchain_community.vectorstores.faiss.FAISS object at 0x0000019AA52094F0>)"
      ]
     },
     "execution_count": 14,
     "metadata": {},
     "output_type": "execute_result"
    }
   ],
   "source": [
    "retriever = db.as_retriever()\n",
    "retriever"
   ]
  },
  {
   "cell_type": "code",
   "execution_count": 15,
   "metadata": {},
   "outputs": [],
   "source": [
    "from langchain.chains import create_retrieval_chain\n",
    "\n",
    "retriever_chain = create_retrieval_chain(retriever, doc_chain)"
   ]
  },
  {
   "cell_type": "code",
   "execution_count": 18,
   "metadata": {},
   "outputs": [],
   "source": [
    "res = retriever_chain.invoke({\"input\":\"Characteristics of Big Data.\"})"
   ]
  },
  {
   "cell_type": "code",
   "execution_count": 19,
   "metadata": {},
   "outputs": [
    {
     "data": {
      "text/plain": [
       "'Thank you for providing the context! Based on the information provided, here are some characteristics of big data:\\n\\n1. Volume: Big data refers to the massive amounts of structured and unstructured data that companies generate every day. This data can range from terabytes to exabytes in size.\\n2. Velocity: Big data is generated at a high speed, often in real-time, and requires processing and analysis to be done quickly to keep up with the pace of business.\\n3. Variety: Big data comes in various forms, including structured data (e.g., relational databases), semi-structured data (e.g., XML), and unstructured data (e.g., social media posts, images, videos).\\n4. Veracity: Big data may contain errors, inconsistencies, or missing values, which can affect the accuracy of analysis and decision-making.\\n5. Value: Big data has the potential to provide significant business value by revealing insights, improving operational efficiency, and enabling innovation.\\n6. Complexity: Big data often involves complex relationships and interactions between different data elements, making it challenging to analyze and interpret.\\n7. Dynamism: Big data is constantly changing, requiring real-time processing and analysis to keep up with the latest trends and patterns.\\n8. Distributedness: Big data can be distributed across multiple sources and systems, making it necessary to have a unified view of the data to analyze and draw insights.\\n9. Diversity: Big data can come from various sources, including customer interactions, transactional data, social media, IoT devices, and more.\\n10. Depositional: Big data is often generated through various digital channels, such as websites, mobile apps, and social media platforms, which can make it challenging to manage and analyze.\\n\\nBy understanding these characteristics of big data, businesses can leverage the power of data analytics to gain valuable insights, improve decision-making, and drive innovation.'"
      ]
     },
     "execution_count": 19,
     "metadata": {},
     "output_type": "execute_result"
    }
   ],
   "source": [
    "res['answer']"
   ]
  }
 ],
 "metadata": {
  "kernelspec": {
   "display_name": "Python 3",
   "language": "python",
   "name": "python3"
  },
  "language_info": {
   "codemirror_mode": {
    "name": "ipython",
    "version": 3
   },
   "file_extension": ".py",
   "mimetype": "text/x-python",
   "name": "python",
   "nbconvert_exporter": "python",
   "pygments_lexer": "ipython3",
   "version": "3.9.19"
  }
 },
 "nbformat": 4,
 "nbformat_minor": 2
}
